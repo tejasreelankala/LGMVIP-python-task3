{
 "cells": [
  {
   "cell_type": "code",
   "execution_count": 6,
   "id": "c1cdfc9f",
   "metadata": {},
   "outputs": [],
   "source": [
    "import tkinter as tk\n",
    "import random\n",
    "\n",
    "def play_game(user_choice):\n",
    "    # Define the options\n",
    "    options = ['rock', 'paper', 'scissors']\n",
    "\n",
    "    # Generate computer's choice\n",
    "    computer_choice = random.choice(options)\n",
    "\n",
    "    # Determine the winner\n",
    "    if user_choice == computer_choice:\n",
    "        result_label.config(text=\"It's a tie!\")\n",
    "    elif (user_choice == 'rock' and computer_choice == 'scissors') or \\\n",
    "         (user_choice == 'paper' and computer_choice == 'rock') or \\\n",
    "         (user_choice == 'scissors' and computer_choice == 'paper'):\n",
    "        result_label.config(text=\"You win!\")\n",
    "    else:\n",
    "        result_label.config(text=\"Computer wins!\")\n",
    "\n",
    "def handle_button_click(choice):\n",
    "    play_game(choice)\n",
    "\n",
    "# Create main window\n",
    "root = tk.Tk()\n",
    "root.title(\"Rock Paper Scissors\")\n",
    "\n",
    "# Create buttons\n",
    "rock_button = tk.Button(root, text=\"Rock\", command=lambda: handle_button_click('rock'))\n",
    "paper_button = tk.Button(root, text=\"Paper\", command=lambda: handle_button_click('paper'))\n",
    "scissors_button = tk.Button(root, text=\"Scissors\", command=lambda: handle_button_click('scissors'))\n",
    "\n",
    "# Create result label\n",
    "result_label = tk.Label(root, text=\"\")\n",
    "\n",
    "# Grid layout\n",
    "rock_button.grid(row=0, column=0, padx=10, pady=10)\n",
    "paper_button.grid(row=0, column=1, padx=10, pady=10)\n",
    "scissors_button.grid(row=0, column=2, padx=10, pady=10)\n",
    "result_label.grid(row=1, column=0, columnspan=3)\n",
    "\n",
    "# Run the main loop\n",
    "root.mainloop()\n"
   ]
  },
  {
   "cell_type": "code",
   "execution_count": null,
   "id": "2ba8f98b",
   "metadata": {},
   "outputs": [],
   "source": []
  }
 ],
 "metadata": {
  "kernelspec": {
   "display_name": "Python 3 (ipykernel)",
   "language": "python",
   "name": "python3"
  },
  "language_info": {
   "codemirror_mode": {
    "name": "ipython",
    "version": 3
   },
   "file_extension": ".py",
   "mimetype": "text/x-python",
   "name": "python",
   "nbconvert_exporter": "python",
   "pygments_lexer": "ipython3",
   "version": "3.11.5"
  }
 },
 "nbformat": 4,
 "nbformat_minor": 5
}
